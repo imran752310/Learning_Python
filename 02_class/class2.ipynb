{
 "cells": [
  {
   "cell_type": "code",
   "execution_count": null,
   "metadata": {},
   "outputs": [],
   "source": []
  },
  {
   "cell_type": "code",
   "execution_count": 3,
   "metadata": {},
   "outputs": [
    {
     "name": "stdout",
     "output_type": "stream",
     "text": [
      "imran\n"
     ]
    }
   ],
   "source": [
    "print(name)"
   ]
  },
  {
   "cell_type": "code",
   "execution_count": 2,
   "metadata": {},
   "outputs": [
    {
     "name": "stdout",
     "output_type": "stream",
     "text": [
      "imran\n"
     ]
    }
   ],
   "source": [
    "name : str = \"imran\"\n",
    "print( name )\n"
   ]
  },
  {
   "cell_type": "markdown",
   "metadata": {},
   "source": [
    "String is very important  in programming. A string can be used to store text, a message or any other type of data that needs to be represented as characters. In this tutorial we will learn how to work with strings in"
   ]
  },
  {
   "cell_type": "markdown",
   "metadata": {},
   "source": [
    "String DataType In Python"
   ]
  },
  {
   "cell_type": "code",
   "execution_count": 1,
   "metadata": {},
   "outputs": [
    {
     "name": "stdout",
     "output_type": "stream",
     "text": [
      "Muhammad Imran\n",
      "<class 'str'>\n"
     ]
    }
   ],
   "source": [
    "name : str = \"Muhammad Imran\"\n",
    "print( name )\n",
    "print( type(name))\n"
   ]
  },
  {
   "cell_type": "code",
   "execution_count": 1,
   "metadata": {},
   "outputs": [
    {
     "name": "stdout",
     "output_type": "stream",
     "text": [
      "PIAIC Student Card \n",
      " Student Name imran khan\n",
      "Age:23\n",
      "EducationBS Computer science\n"
     ]
    }
   ],
   "source": [
    "name : str = \"imran khan\"\n",
    "fname : str = \"Khan\"\n",
    "education : str = \"BS Computer science\"\n",
    "age : int = 23\n",
    "\n",
    "card : str = \"PIAIC Student Card \\n Student Name \" + name +\\\n",
    "\"\\nAge:\" + str(age)+ \"\\n\"+\\\n",
    "\"Education\" + education\n",
    "print(card)"
   ]
  },
  {
   "cell_type": "markdown",
   "metadata": {},
   "source": [
    "# Define Multi Line String \"\"\" \"\"\", ''' '''"
   ]
  },
  {
   "cell_type": "code",
   "execution_count": 2,
   "metadata": {},
   "outputs": [
    {
     "name": "stdout",
     "output_type": "stream",
     "text": [
      "\n",
      "PIAIC Student Card :\n",
      " Student Name :\n",
      "Father Name :\n",
      "Age :\n",
      "Education :\n",
      "\n"
     ]
    }
   ],
   "source": [
    "name : str = \"imran khan\"\n",
    "fname : str = \"Khan\"\n",
    "education : str = \"BS Computer science\"\n",
    "age : int = 23\n",
    "\n",
    "card : str = \"\"\"\n",
    "PIAIC Student Card :\n",
    " Student Name :\n",
    "Father Name :\n",
    "Age :\n",
    "Education :\n",
    "\"\"\"\n",
    "print(card)"
   ]
  },
  {
   "cell_type": "markdown",
   "metadata": {},
   "source": [
    "# F-String is more powerfull string in python\n"
   ]
  },
  {
   "cell_type": "code",
   "execution_count": 3,
   "metadata": {},
   "outputs": [
    {
     "name": "stdout",
     "output_type": "stream",
     "text": [
      "\n",
      "PIAIC Student Card \n",
      "Student Name :imran khan\n",
      "Father Name :Khan\n",
      "Age :   23\n",
      "Education :BS Computer science\n",
      "\n"
     ]
    }
   ],
   "source": [
    "name : str = \"imran khan\"\n",
    "fname : str = \"Khan\"\n",
    "education : str = \"BS Computer science\"\n",
    "age : int = 23\n",
    "\n",
    "card : str = f\"\"\"\n",
    "PIAIC Student Card \n",
    "Student Name :{name}\n",
    "Father Name :{fname}\n",
    "Age :   {age}\n",
    "Education :{education}\n",
    "\"\"\"\n",
    "print(card)"
   ]
  },
  {
   "cell_type": "code",
   "execution_count": 5,
   "metadata": {},
   "outputs": [
    {
     "name": "stdout",
     "output_type": "stream",
     "text": [
      "\n",
      "PIAIC Student Card \n",
      "Student Name :imran khan\n",
      "Father Name :Khan\n",
      "Age :   23\n",
      "Education :BS Computer science\n",
      "\n",
      "Total =131\n",
      "\n",
      "\n"
     ]
    }
   ],
   "source": [
    "name : str = \"imran khan\"\n",
    "fname : str = \"Khan\"\n",
    "education : str = \"BS Computer science\"\n",
    "age : int = 23\n",
    "\n",
    "card : str = f'''\n",
    "PIAIC Student Card \n",
    "Student Name :{name}\n",
    "Father Name :{fname}\n",
    "Age :   {age}\n",
    "Education :{education}\n",
    "\n",
    "Total ={20 + 30 + 45 + 36}\n",
    "\n",
    "'''\n",
    "print(card)"
   ]
  },
  {
   "cell_type": "markdown",
   "metadata": {},
   "source": [
    "# F-String and Jinja"
   ]
  },
  {
   "cell_type": "code",
   "execution_count": null,
   "metadata": {},
   "outputs": [],
   "source": [
    "abs :str = f\"\"\"\n",
    "    Student Nmae {name}\n",
    "\"\"\"\n",
    "#janja \n",
    "ab :str = \"\"\"\n",
    "    student name {{name}}\n",
    "\"\"\""
   ]
  }
 ],
 "metadata": {
  "kernelspec": {
   "display_name": "base",
   "language": "python",
   "name": "python3"
  },
  "language_info": {
   "codemirror_mode": {
    "name": "ipython",
    "version": 3
   },
   "file_extension": ".py",
   "mimetype": "text/x-python",
   "name": "python",
   "nbconvert_exporter": "python",
   "pygments_lexer": "ipython3",
   "version": "3.11.5"
  }
 },
 "nbformat": 4,
 "nbformat_minor": 2
}
