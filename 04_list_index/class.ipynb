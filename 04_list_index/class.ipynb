{
 "cells": [
  {
   "cell_type": "markdown",
   "metadata": {},
   "source": [
    "# List Work as a Array\n",
    "* list dynamic length\n",
    "* Herogenuous data types (Multiple type)\n",
    "* index\n",
    "     * positive 0 to n-1\n",
    "     *  negative -n+0 to -1"
   ]
  },
  {
   "cell_type": "code",
   "execution_count": null,
   "metadata": {},
   "outputs": [],
   "source": []
  },
  {
   "cell_type": "code",
   "execution_count": 1,
   "metadata": {},
   "outputs": [
    {
     "name": "stdout",
     "output_type": "stream",
     "text": [
      "imran\n"
     ]
    }
   ],
   "source": [
    "name1 : str = \"imran\"\n",
    "name2 : str = \"ali\"\n",
    "name3 : str = \"wali\"\n"
   ]
  },
  {
   "cell_type": "code",
   "execution_count": 4,
   "metadata": {},
   "outputs": [
    {
     "name": "stdout",
     "output_type": "stream",
     "text": [
      "imran\n",
      "imran\n"
     ]
    }
   ],
   "source": [
    "#           0        1      2\n",
    "names  = [\"imran\", \"ali\", \"wai\"]\n",
    "#          -3       -2      -1\n",
    "print(names[0])\n",
    "print(names[-3])\n"
   ]
  },
  {
   "cell_type": "code",
   "execution_count": 7,
   "metadata": {},
   "outputs": [
    {
     "name": "stdout",
     "output_type": "stream",
     "text": [
      "Hamza\n",
      "My Name is IMRAN KHAN and I am a Programmer\n"
     ]
    }
   ],
   "source": [
    "from typing import Any\n",
    "\n",
    "names : list[Any] = [\"Imran Khan\", \"wali\", \"aslam\", \"Hamza\"]\n",
    "\n",
    "print(names[3])\n",
    "\n",
    "print( f'My Name is {names[0].upper( )} and I am a Programmer')"
   ]
  },
  {
   "cell_type": "code",
   "execution_count": null,
   "metadata": {},
   "outputs": [],
   "source": [
    "names : list[str] = [\"Imran Khan\", \"wali\", 23, True]; \n"
   ]
  },
  {
   "cell_type": "code",
   "execution_count": null,
   "metadata": {},
   "outputs": [],
   "source": [
    "fruits = [\"apple\", \"banana\", \"cherry\"]\n",
    "print(fruits[0])"
   ]
  }
 ],
 "metadata": {
  "kernelspec": {
   "display_name": "base",
   "language": "python",
   "name": "python3"
  },
  "language_info": {
   "codemirror_mode": {
    "name": "ipython",
    "version": 3
   },
   "file_extension": ".py",
   "mimetype": "text/x-python",
   "name": "python",
   "nbconvert_exporter": "python",
   "pygments_lexer": "ipython3",
   "version": "3.11.5"
  }
 },
 "nbformat": 4,
 "nbformat_minor": 2
}
